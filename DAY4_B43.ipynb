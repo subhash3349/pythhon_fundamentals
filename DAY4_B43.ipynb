{
 "cells": [
  {
   "cell_type": "code",
   "execution_count": null,
   "metadata": {},
   "outputs": [],
   "source": [
    "#lists\n",
    "\n",
    "to define lists--> list(),[]\n"
   ]
  },
  {
   "cell_type": "code",
   "execution_count": 2,
   "metadata": {},
   "outputs": [
    {
     "name": "stdout",
     "output_type": "stream",
     "text": [
      "['steve', 'stark', 'subbu', 'chaitu']\n"
     ]
    }
   ],
   "source": [
    "#create a list()\n",
    "\n",
    "students=['steve','stark','subbu','chaitu']\n",
    "print(students)"
   ]
  },
  {
   "cell_type": "code",
   "execution_count": 3,
   "metadata": {},
   "outputs": [
    {
     "data": {
      "text/plain": [
       "list"
      ]
     },
     "execution_count": 3,
     "metadata": {},
     "output_type": "execute_result"
    }
   ],
   "source": [
    "type(students)"
   ]
  },
  {
   "cell_type": "code",
   "execution_count": null,
   "metadata": {},
   "outputs": [],
   "source": [
    "#indexing.....\n"
   ]
  },
  {
   "cell_type": "code",
   "execution_count": 8,
   "metadata": {},
   "outputs": [
    {
     "name": "stdout",
     "output_type": "stream",
     "text": [
      "['steve', 'stark', 'subbu', 'chaitu']\n",
      "stark\n",
      "Chaitu\n",
      "SUBBU\n"
     ]
    }
   ],
   "source": [
    "#to print a particular student\n",
    "print(students)\n",
    "\n",
    "print(students[1])\n",
    "print(students[3].title())\n",
    "\n",
    "print(students[2].upper())"
   ]
  },
  {
   "cell_type": "code",
   "execution_count": 16,
   "metadata": {},
   "outputs": [
    {
     "name": "stdout",
     "output_type": "stream",
     "text": [
      "['steve', 'stark', 'subbu', 'chaitu']\n",
      "['steve', 'stark', 'subbu', 'chaitu', 'subhash']\n"
     ]
    }
   ],
   "source": [
    "#to add elements to list\n",
    "\n",
    "print(students)\n",
    "\n",
    "students.append(\"subhash\")\n",
    "\n",
    "print(students)"
   ]
  },
  {
   "cell_type": "code",
   "execution_count": 17,
   "metadata": {},
   "outputs": [],
   "source": [
    "# to insert element at a desired index places\n",
    "\n",
    "#add a student at index 2\n",
    "\n",
    "students.insert(2,\"Trevor\")"
   ]
  },
  {
   "cell_type": "code",
   "execution_count": 18,
   "metadata": {},
   "outputs": [
    {
     "name": "stdout",
     "output_type": "stream",
     "text": [
      "['steve', 'stark', 'Trevor', 'subbu', 'chaitu', 'subhash']\n"
     ]
    }
   ],
   "source": [
    "print(students)"
   ]
  },
  {
   "cell_type": "code",
   "execution_count": 19,
   "metadata": {},
   "outputs": [],
   "source": [
    "students.insert(3,\"rohit\")"
   ]
  },
  {
   "cell_type": "code",
   "execution_count": 20,
   "metadata": {},
   "outputs": [
    {
     "name": "stdout",
     "output_type": "stream",
     "text": [
      "['steve', 'stark', 'Trevor', 'rohit', 'subbu', 'chaitu', 'subhash']\n"
     ]
    }
   ],
   "source": [
    "print(students)"
   ]
  },
  {
   "cell_type": "code",
   "execution_count": 21,
   "metadata": {},
   "outputs": [
    {
     "name": "stdout",
     "output_type": "stream",
     "text": [
      "['rogers', 'stark', 'Trevor', 'rohit', 'subbu', 'chaitu', 'subhash']\n"
     ]
    }
   ],
   "source": [
    "# to replace a element in a list\n",
    "\n",
    "students[0]=\"rogers\"\n",
    "print(students)"
   ]
  },
  {
   "cell_type": "code",
   "execution_count": 22,
   "metadata": {},
   "outputs": [
    {
     "name": "stdout",
     "output_type": "stream",
     "text": [
      "['rogers', 'stark', 'rohit', 'subbu', 'chaitu', 'subhash']\n"
     ]
    }
   ],
   "source": [
    "#to delete elements in a list\n",
    "\n",
    "del students[2]\n",
    "\n",
    "print(students)"
   ]
  },
  {
   "cell_type": "code",
   "execution_count": 23,
   "metadata": {},
   "outputs": [
    {
     "name": "stdout",
     "output_type": "stream",
     "text": [
      "['rogers', 'stark', 'subbu', 'chaitu', 'subhash']\n"
     ]
    }
   ],
   "source": [
    "del students[2]\n",
    "print(students)"
   ]
  },
  {
   "cell_type": "code",
   "execution_count": 24,
   "metadata": {},
   "outputs": [
    {
     "name": "stdout",
     "output_type": "stream",
     "text": [
      "['rogers', 'stark', 'subbu', 'chaitu']\n",
      "subhash\n"
     ]
    }
   ],
   "source": [
    "#tempory deleting elements\n",
    "\n",
    "#pop()\n",
    "\n",
    "x = students.pop()\n",
    "\n",
    "#by default removes the last element in the list\n",
    "\n",
    "print(students)\n",
    "\n",
    "#to print the removed element \n",
    "print(x)\n",
    "\n"
   ]
  },
  {
   "cell_type": "code",
   "execution_count": 25,
   "metadata": {},
   "outputs": [
    {
     "name": "stdout",
     "output_type": "stream",
     "text": [
      "['rogers', 'stark', 'chaitu']\n"
     ]
    }
   ],
   "source": [
    "#pop() is also used to delete custom element by  giving the index number to pop\n",
    "\n",
    "students.pop(2)\n",
    "print(students)"
   ]
  },
  {
   "cell_type": "code",
   "execution_count": null,
   "metadata": {},
   "outputs": [],
   "source": []
  }
 ],
 "metadata": {
  "kernelspec": {
   "display_name": "Python 3",
   "language": "python",
   "name": "python3"
  },
  "language_info": {
   "codemirror_mode": {
    "name": "ipython",
    "version": 3
   },
   "file_extension": ".py",
   "mimetype": "text/x-python",
   "name": "python",
   "nbconvert_exporter": "python",
   "pygments_lexer": "ipython3",
   "version": "3.7.6"
  }
 },
 "nbformat": 4,
 "nbformat_minor": 4
}
