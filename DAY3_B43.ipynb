{
 "cells": [
  {
   "cell_type": "raw",
   "metadata": {},
   "source": [
    "#strings\n",
    "\n"
   ]
  },
  {
   "cell_type": "code",
   "execution_count": 1,
   "metadata": {},
   "outputs": [
    {
     "name": "stdout",
     "output_type": "stream",
     "text": [
      "steve rogers\n"
     ]
    }
   ],
   "source": [
    "fullname= 'steve rogers'\n",
    "print(fullname)"
   ]
  },
  {
   "cell_type": "code",
   "execution_count": 2,
   "metadata": {},
   "outputs": [
    {
     "name": "stdout",
     "output_type": "stream",
     "text": [
      "Steve Rogers\n"
     ]
    }
   ],
   "source": [
    "print(fullname.title())"
   ]
  },
  {
   "cell_type": "code",
   "execution_count": 3,
   "metadata": {},
   "outputs": [
    {
     "name": "stdout",
     "output_type": "stream",
     "text": [
      "STEVE ROGERS\n"
     ]
    }
   ],
   "source": [
    "print(fullname.upper())"
   ]
  },
  {
   "cell_type": "code",
   "execution_count": 4,
   "metadata": {},
   "outputs": [
    {
     "name": "stdout",
     "output_type": "stream",
     "text": [
      "steve rogers\n"
     ]
    }
   ],
   "source": [
    "print(fullname.lower())"
   ]
  },
  {
   "cell_type": "code",
   "execution_count": 5,
   "metadata": {},
   "outputs": [],
   "source": [
    "#f strings\n",
    "\n",
    "#f\"custom words{place holder1} {placeholder2}.......{placeholdern}\""
   ]
  },
  {
   "cell_type": "code",
   "execution_count": 6,
   "metadata": {},
   "outputs": [],
   "source": [
    "firstname = \"steve\"\n",
    "lastname = \"rogers\""
   ]
  },
  {
   "cell_type": "code",
   "execution_count": 7,
   "metadata": {},
   "outputs": [
    {
     "name": "stdout",
     "output_type": "stream",
     "text": [
      "steve rogers\n"
     ]
    }
   ],
   "source": [
    "#to get as full name\n",
    "fullname = f\"{firstname} {lastname}\"\n",
    "print(fullname)"
   ]
  },
  {
   "cell_type": "code",
   "execution_count": 8,
   "metadata": {},
   "outputs": [
    {
     "name": "stdout",
     "output_type": "stream",
     "text": [
      "Steve Rogers\n"
     ]
    }
   ],
   "source": [
    "print(fullname.title())"
   ]
  },
  {
   "cell_type": "code",
   "execution_count": 10,
   "metadata": {},
   "outputs": [
    {
     "name": "stdout",
     "output_type": "stream",
     "text": [
      "The first AVENGER IS, Steve Rogers\n"
     ]
    }
   ],
   "source": [
    "message = f\"The first AVENGER IS, {fullname.title()}\"\n",
    "\n",
    "print(message)\n"
   ]
  },
  {
   "cell_type": "code",
   "execution_count": 11,
   "metadata": {},
   "outputs": [],
   "source": [
    "# white spaces in strings\n",
    "\n"
   ]
  },
  {
   "cell_type": "code",
   "execution_count": 13,
   "metadata": {},
   "outputs": [
    {
     "name": "stdout",
     "output_type": "stream",
     "text": [
      "fav_movies:ENDGAMEAVATARTERMINATORLUCYONG_BAKHEARTBREAK\n"
     ]
    }
   ],
   "source": [
    "print(\"fav_movies:ENDGAMEAVATARTERMINATORLUCYONG_BAKHEARTBREAK\")"
   ]
  },
  {
   "cell_type": "code",
   "execution_count": 14,
   "metadata": {},
   "outputs": [
    {
     "name": "stdout",
     "output_type": "stream",
     "text": [
      "fav_movies:ENDGAME\n",
      "AVATAR\n",
      "TERMINATOR\n",
      "LUCY\n",
      "ONG_BAK\n",
      "HEARTBREAK\n"
     ]
    }
   ],
   "source": [
    "print(\"fav_movies:ENDGAME\\nAVATAR\\nTERMINATOR\\nLUCY\\nONG_BAK\\nHEARTBREAK\") #\\n-->new line delimiter"
   ]
  },
  {
   "cell_type": "code",
   "execution_count": 18,
   "metadata": {},
   "outputs": [
    {
     "name": "stdout",
     "output_type": "stream",
     "text": [
      "fav_movies:\n",
      "\tENDGAME\n",
      "\tAVATAR\n",
      "\tTERMINATOR\n",
      "\tLUCY\n",
      "\tONG_BAK\n",
      "\tHEARTBREAK\n"
     ]
    }
   ],
   "source": [
    "print(\"fav_movies:\\n\\tENDGAME\\n\\tAVATAR\\n\\tTERMINATOR\\n\\tLUCY\\n\\tONG_BAK\\n\\tHEARTBREAK\") #\\t--> tab delimiter"
   ]
  },
  {
   "cell_type": "code",
   "execution_count": 19,
   "metadata": {},
   "outputs": [],
   "source": [
    "#remove white spaces\n",
    "\n"
   ]
  },
  {
   "cell_type": "code",
   "execution_count": 20,
   "metadata": {},
   "outputs": [
    {
     "name": "stdout",
     "output_type": "stream",
     "text": [
      " steve\n"
     ]
    }
   ],
   "source": [
    "name1=' steve'\n",
    "print(name1)"
   ]
  },
  {
   "cell_type": "code",
   "execution_count": 22,
   "metadata": {},
   "outputs": [
    {
     "name": "stdout",
     "output_type": "stream",
     "text": [
      "rogers   \n"
     ]
    }
   ],
   "source": [
    "name2='rogers   '\n",
    "print(name2)"
   ]
  },
  {
   "cell_type": "code",
   "execution_count": 23,
   "metadata": {},
   "outputs": [
    {
     "name": "stdout",
     "output_type": "stream",
     "text": [
      "steve\n"
     ]
    }
   ],
   "source": [
    "print(name1.lstrip()) #left strip"
   ]
  },
  {
   "cell_type": "code",
   "execution_count": 24,
   "metadata": {},
   "outputs": [
    {
     "name": "stdout",
     "output_type": "stream",
     "text": [
      "rogers\n"
     ]
    }
   ],
   "source": [
    "print(name2.rstrip()) #right strip"
   ]
  },
  {
   "cell_type": "code",
   "execution_count": 27,
   "metadata": {},
   "outputs": [
    {
     "name": "stdout",
     "output_type": "stream",
     "text": [
      "    steve rogers    \n"
     ]
    }
   ],
   "source": [
    "name = '    steve rogers    '\n",
    "print(name)"
   ]
  },
  {
   "cell_type": "code",
   "execution_count": 28,
   "metadata": {},
   "outputs": [
    {
     "name": "stdout",
     "output_type": "stream",
     "text": [
      "steve rogers\n"
     ]
    }
   ],
   "source": [
    "print(name.strip()) #both right and left spaces will be removed"
   ]
  },
  {
   "cell_type": "code",
   "execution_count": null,
   "metadata": {},
   "outputs": [],
   "source": []
  }
 ],
 "metadata": {
  "kernelspec": {
   "display_name": "Python 3",
   "language": "python",
   "name": "python3"
  },
  "language_info": {
   "codemirror_mode": {
    "name": "ipython",
    "version": 3
   },
   "file_extension": ".py",
   "mimetype": "text/x-python",
   "name": "python",
   "nbconvert_exporter": "python",
   "pygments_lexer": "ipython3",
   "version": "3.7.6"
  }
 },
 "nbformat": 4,
 "nbformat_minor": 4
}
